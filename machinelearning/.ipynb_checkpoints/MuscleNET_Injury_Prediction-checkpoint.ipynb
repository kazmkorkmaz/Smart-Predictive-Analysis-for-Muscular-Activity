{
 "cells": [
  {
   "cell_type": "code",
   "execution_count": 1,
   "id": "e9e19f39",
   "metadata": {},
   "outputs": [],
   "source": [
    "import tensorflow as tf\n",
    "import numpy as np\n",
    "import time\n",
    "from collections import Counter\n",
    "import matplotlib.pyplot as plt\n",
    "from sklearn.utils import shuffle"
   ]
  },
  {
   "cell_type": "code",
   "execution_count": 2,
   "id": "866f88bc",
   "metadata": {},
   "outputs": [
    {
     "name": "stdout",
     "output_type": "stream",
     "text": [
      "TensorFlow version is 2.6.0\n"
     ]
    }
   ],
   "source": [
    "print(\"TensorFlow version is \" + tf.__version__)"
   ]
  },
  {
   "cell_type": "code",
   "execution_count": 3,
   "id": "e025ff6b",
   "metadata": {},
   "outputs": [],
   "source": [
    "timesteps = 5"
   ]
  },
  {
   "cell_type": "code",
   "execution_count": 4,
   "id": "69d1cbcb",
   "metadata": {},
   "outputs": [],
   "source": [
    "feature_file_name = \"LSTM_features_June20.txt\"\n",
    "label_file_name = \"LSTM_Risk_Labels_June20.txt\"\n",
    "\n",
    "model_saving_path = \"MuscleNET_Models/LSTM/MuscleNET_Injury_Prediction\""
   ]
  },
  {
   "cell_type": "code",
   "execution_count": 5,
   "id": "868a72cf",
   "metadata": {},
   "outputs": [
    {
     "name": "stdout",
     "output_type": "stream",
     "text": [
      "Counter({0: 20, 1: 9})\n",
      "one hot encoding labels shape  (29, 2)\n",
      "Model Input Shape (samples,timeSteps,numFeatures):  (29, 5, 16)\n",
      "Labels shape (samples,2):  (29, 2)\n"
     ]
    }
   ],
   "source": [
    "features = np.loadtxt(feature_file_name)\n",
    "labels = np.loadtxt(label_file_name)\n",
    "labels = labels.astype(int)\n",
    "\n",
    "counter = Counter(labels)\n",
    "print(counter)\n",
    "\n",
    "# feature array should be in the form of (samples,timesteps,numFeatures) \n",
    "features = features.reshape(int(features.shape[0]/timesteps), timesteps, features.shape[1])\n",
    "\n",
    "features, labels = shuffle(features, labels, random_state=0)\n",
    "\n",
    "labels_one_hot = tf.one_hot(labels, np.max(labels)+1)\n",
    "\n",
    "print(\"one hot encoding labels shape \", labels_one_hot.shape)\n",
    "\n",
    "print(\"Model Input Shape (samples,timeSteps,numFeatures): \", features.shape)\n",
    "print(\"Labels shape (samples,2): \", labels_one_hot.shape)\n",
    "\n",
    "numFeatures = features.shape[2]"
   ]
  },
  {
   "cell_type": "code",
   "execution_count": 6,
   "id": "47a3f95d",
   "metadata": {},
   "outputs": [
    {
     "name": "stdout",
     "output_type": "stream",
     "text": [
      "Training feature set shape (samples,timeSteps,numFeatures):  (23, 5, 16)\n",
      "Training label set shape (samples,1):  (23, 2)\n",
      "Test feature set shape (samples,timeSteps,numFeatures):  (6, 5, 16)\n",
      "Test label set shape (samples,1):  (6, 2)\n"
     ]
    }
   ],
   "source": [
    "numTraining = int(features.shape[0] * 0.8)\n",
    "x_train = features[:numTraining,:,:]\n",
    "y_train = labels_one_hot[:numTraining]\n",
    "x_test = features[numTraining:,:,:]\n",
    "y_test = labels_one_hot[numTraining:]\n",
    "\n",
    "print(\"Training feature set shape (samples,timeSteps,numFeatures): \", x_train.shape)\n",
    "print(\"Training label set shape (samples,1): \", y_train.shape)\n",
    "print(\"Test feature set shape (samples,timeSteps,numFeatures): \", x_test.shape)\n",
    "print(\"Test label set shape (samples,1): \", y_test.shape)"
   ]
  },
  {
   "cell_type": "code",
   "execution_count": 7,
   "id": "8fd34480",
   "metadata": {},
   "outputs": [],
   "source": [
    "model = tf.keras.models.Sequential([\n",
    "    tf.keras.layers.LSTM(32, input_shape = [timesteps,numFeatures]),\n",
    "    tf.keras.layers.Dense(32, activation = \"relu\"),\n",
    "    tf.keras.layers.Dense(2, activation = \"softmax\")\n",
    "])"
   ]
  },
  {
   "cell_type": "code",
   "execution_count": 8,
   "id": "b3e9fcfc",
   "metadata": {},
   "outputs": [
    {
     "name": "stdout",
     "output_type": "stream",
     "text": [
      "Model: \"sequential\"\n",
      "_________________________________________________________________\n",
      "Layer (type)                 Output Shape              Param #   \n",
      "=================================================================\n",
      "lstm (LSTM)                  (None, 32)                6272      \n",
      "_________________________________________________________________\n",
      "dense (Dense)                (None, 32)                1056      \n",
      "_________________________________________________________________\n",
      "dense_1 (Dense)              (None, 2)                 66        \n",
      "=================================================================\n",
      "Total params: 7,394\n",
      "Trainable params: 7,394\n",
      "Non-trainable params: 0\n",
      "_________________________________________________________________\n"
     ]
    }
   ],
   "source": [
    "optimizer = tf.keras.optimizers.Adam(learning_rate=1e-4)\n",
    "model.compile(optimizer = optimizer,\n",
    "             loss = \"categorical_crossentropy\",\n",
    "             metrics=[\"acc\",\n",
    "                     tf.keras.metrics.FalseNegatives(),\n",
    "                     tf.keras.metrics.FalsePositives(),\n",
    "                     tf.keras.metrics.TrueNegatives(),\n",
    "                     tf.keras.metrics.TruePositives()])\n",
    "model.summary()"
   ]
  },
  {
   "cell_type": "code",
   "execution_count": 9,
   "id": "2c264125",
   "metadata": {},
   "outputs": [
    {
     "name": "stdout",
     "output_type": "stream",
     "text": [
      "Epoch 1/150\n",
      "1/1 [==============================] - 2s 2s/step - loss: 0.7282 - acc: 0.3913 - false_negatives: 14.0000 - false_positives: 14.0000 - true_negatives: 9.0000 - true_positives: 9.0000 - val_loss: 0.7231 - val_acc: 0.5000 - val_false_negatives: 3.0000 - val_false_positives: 3.0000 - val_true_negatives: 3.0000 - val_true_positives: 3.0000\n",
      "Epoch 2/150\n",
      "1/1 [==============================] - 0s 27ms/step - loss: 0.7252 - acc: 0.3913 - false_negatives: 14.0000 - false_positives: 14.0000 - true_negatives: 9.0000 - true_positives: 9.0000 - val_loss: 0.7233 - val_acc: 0.5000 - val_false_negatives: 3.0000 - val_false_positives: 3.0000 - val_true_negatives: 3.0000 - val_true_positives: 3.0000\n",
      "Epoch 3/150\n",
      "1/1 [==============================] - 0s 27ms/step - loss: 0.7224 - acc: 0.3913 - false_negatives: 14.0000 - false_positives: 14.0000 - true_negatives: 9.0000 - true_positives: 9.0000 - val_loss: 0.7235 - val_acc: 0.5000 - val_false_negatives: 3.0000 - val_false_positives: 3.0000 - val_true_negatives: 3.0000 - val_true_positives: 3.0000\n",
      "Epoch 4/150\n",
      "1/1 [==============================] - 0s 28ms/step - loss: 0.7199 - acc: 0.3913 - false_negatives: 14.0000 - false_positives: 14.0000 - true_negatives: 9.0000 - true_positives: 9.0000 - val_loss: 0.7237 - val_acc: 0.3333 - val_false_negatives: 4.0000 - val_false_positives: 4.0000 - val_true_negatives: 2.0000 - val_true_positives: 2.0000\n",
      "Epoch 5/150\n",
      "1/1 [==============================] - 0s 27ms/step - loss: 0.7173 - acc: 0.3913 - false_negatives: 14.0000 - false_positives: 14.0000 - true_negatives: 9.0000 - true_positives: 9.0000 - val_loss: 0.7237 - val_acc: 0.3333 - val_false_negatives: 4.0000 - val_false_positives: 4.0000 - val_true_negatives: 2.0000 - val_true_positives: 2.0000\n",
      "Epoch 6/150\n",
      "1/1 [==============================] - 0s 30ms/step - loss: 0.7148 - acc: 0.3913 - false_negatives: 14.0000 - false_positives: 14.0000 - true_negatives: 9.0000 - true_positives: 9.0000 - val_loss: 0.7236 - val_acc: 0.3333 - val_false_negatives: 4.0000 - val_false_positives: 4.0000 - val_true_negatives: 2.0000 - val_true_positives: 2.0000\n",
      "Epoch 7/150\n",
      "1/1 [==============================] - 0s 27ms/step - loss: 0.7125 - acc: 0.3913 - false_negatives: 14.0000 - false_positives: 14.0000 - true_negatives: 9.0000 - true_positives: 9.0000 - val_loss: 0.7235 - val_acc: 0.3333 - val_false_negatives: 4.0000 - val_false_positives: 4.0000 - val_true_negatives: 2.0000 - val_true_positives: 2.0000\n",
      "Epoch 8/150\n",
      "1/1 [==============================] - 0s 27ms/step - loss: 0.7102 - acc: 0.4348 - false_negatives: 13.0000 - false_positives: 13.0000 - true_negatives: 10.0000 - true_positives: 10.0000 - val_loss: 0.7233 - val_acc: 0.3333 - val_false_negatives: 4.0000 - val_false_positives: 4.0000 - val_true_negatives: 2.0000 - val_true_positives: 2.0000\n",
      "Epoch 9/150\n",
      "1/1 [==============================] - 0s 28ms/step - loss: 0.7084 - acc: 0.4348 - false_negatives: 13.0000 - false_positives: 13.0000 - true_negatives: 10.0000 - true_positives: 10.0000 - val_loss: 0.7229 - val_acc: 0.3333 - val_false_negatives: 4.0000 - val_false_positives: 4.0000 - val_true_negatives: 2.0000 - val_true_positives: 2.0000\n",
      "Epoch 10/150\n",
      "1/1 [==============================] - 0s 28ms/step - loss: 0.7067 - acc: 0.4348 - false_negatives: 13.0000 - false_positives: 13.0000 - true_negatives: 10.0000 - true_positives: 10.0000 - val_loss: 0.7228 - val_acc: 0.3333 - val_false_negatives: 4.0000 - val_false_positives: 4.0000 - val_true_negatives: 2.0000 - val_true_positives: 2.0000\n",
      "Epoch 11/150\n",
      "1/1 [==============================] - 0s 28ms/step - loss: 0.7050 - acc: 0.4348 - false_negatives: 13.0000 - false_positives: 13.0000 - true_negatives: 10.0000 - true_positives: 10.0000 - val_loss: 0.7226 - val_acc: 0.3333 - val_false_negatives: 4.0000 - val_false_positives: 4.0000 - val_true_negatives: 2.0000 - val_true_positives: 2.0000\n",
      "Epoch 12/150\n",
      "1/1 [==============================] - 0s 30ms/step - loss: 0.7032 - acc: 0.4348 - false_negatives: 13.0000 - false_positives: 13.0000 - true_negatives: 10.0000 - true_positives: 10.0000 - val_loss: 0.7223 - val_acc: 0.1667 - val_false_negatives: 5.0000 - val_false_positives: 5.0000 - val_true_negatives: 1.0000 - val_true_positives: 1.0000\n",
      "Epoch 13/150\n",
      "1/1 [==============================] - 0s 31ms/step - loss: 0.7014 - acc: 0.4783 - false_negatives: 12.0000 - false_positives: 12.0000 - true_negatives: 11.0000 - true_positives: 11.0000 - val_loss: 0.7218 - val_acc: 0.1667 - val_false_negatives: 5.0000 - val_false_positives: 5.0000 - val_true_negatives: 1.0000 - val_true_positives: 1.0000\n",
      "Epoch 14/150\n",
      "1/1 [==============================] - 0s 33ms/step - loss: 0.7001 - acc: 0.4783 - false_negatives: 12.0000 - false_positives: 12.0000 - true_negatives: 11.0000 - true_positives: 11.0000 - val_loss: 0.7213 - val_acc: 0.3333 - val_false_negatives: 4.0000 - val_false_positives: 4.0000 - val_true_negatives: 2.0000 - val_true_positives: 2.0000\n",
      "Epoch 15/150\n",
      "1/1 [==============================] - 0s 30ms/step - loss: 0.6987 - acc: 0.4783 - false_negatives: 12.0000 - false_positives: 12.0000 - true_negatives: 11.0000 - true_positives: 11.0000 - val_loss: 0.7206 - val_acc: 0.3333 - val_false_negatives: 4.0000 - val_false_positives: 4.0000 - val_true_negatives: 2.0000 - val_true_positives: 2.0000\n",
      "Epoch 16/150\n",
      "1/1 [==============================] - 0s 32ms/step - loss: 0.6972 - acc: 0.4783 - false_negatives: 12.0000 - false_positives: 12.0000 - true_negatives: 11.0000 - true_positives: 11.0000 - val_loss: 0.7200 - val_acc: 0.3333 - val_false_negatives: 4.0000 - val_false_positives: 4.0000 - val_true_negatives: 2.0000 - val_true_positives: 2.0000\n",
      "Epoch 17/150\n",
      "1/1 [==============================] - 0s 29ms/step - loss: 0.6958 - acc: 0.4783 - false_negatives: 12.0000 - false_positives: 12.0000 - true_negatives: 11.0000 - true_positives: 11.0000 - val_loss: 0.7194 - val_acc: 0.3333 - val_false_negatives: 4.0000 - val_false_positives: 4.0000 - val_true_negatives: 2.0000 - val_true_positives: 2.0000\n",
      "Epoch 18/150\n",
      "1/1 [==============================] - 0s 29ms/step - loss: 0.6944 - acc: 0.4783 - false_negatives: 12.0000 - false_positives: 12.0000 - true_negatives: 11.0000 - true_positives: 11.0000 - val_loss: 0.7187 - val_acc: 0.3333 - val_false_negatives: 4.0000 - val_false_positives: 4.0000 - val_true_negatives: 2.0000 - val_true_positives: 2.0000\n",
      "Epoch 19/150\n",
      "1/1 [==============================] - 0s 31ms/step - loss: 0.6930 - acc: 0.5652 - false_negatives: 10.0000 - false_positives: 10.0000 - true_negatives: 13.0000 - true_positives: 13.0000 - val_loss: 0.7181 - val_acc: 0.3333 - val_false_negatives: 4.0000 - val_false_positives: 4.0000 - val_true_negatives: 2.0000 - val_true_positives: 2.0000\n",
      "Epoch 20/150\n",
      "1/1 [==============================] - 0s 30ms/step - loss: 0.6916 - acc: 0.5652 - false_negatives: 10.0000 - false_positives: 10.0000 - true_negatives: 13.0000 - true_positives: 13.0000 - val_loss: 0.7174 - val_acc: 0.3333 - val_false_negatives: 4.0000 - val_false_positives: 4.0000 - val_true_negatives: 2.0000 - val_true_positives: 2.0000\n",
      "Epoch 21/150\n",
      "1/1 [==============================] - 0s 30ms/step - loss: 0.6903 - acc: 0.6087 - false_negatives: 9.0000 - false_positives: 9.0000 - true_negatives: 14.0000 - true_positives: 14.0000 - val_loss: 0.7168 - val_acc: 0.3333 - val_false_negatives: 4.0000 - val_false_positives: 4.0000 - val_true_negatives: 2.0000 - val_true_positives: 2.0000\n",
      "Epoch 22/150\n",
      "1/1 [==============================] - 0s 28ms/step - loss: 0.6890 - acc: 0.6087 - false_negatives: 9.0000 - false_positives: 9.0000 - true_negatives: 14.0000 - true_positives: 14.0000 - val_loss: 0.7161 - val_acc: 0.3333 - val_false_negatives: 4.0000 - val_false_positives: 4.0000 - val_true_negatives: 2.0000 - val_true_positives: 2.0000\n",
      "Epoch 23/150\n",
      "1/1 [==============================] - 0s 27ms/step - loss: 0.6877 - acc: 0.6522 - false_negatives: 8.0000 - false_positives: 8.0000 - true_negatives: 15.0000 - true_positives: 15.0000 - val_loss: 0.7154 - val_acc: 0.3333 - val_false_negatives: 4.0000 - val_false_positives: 4.0000 - val_true_negatives: 2.0000 - val_true_positives: 2.0000\n",
      "Epoch 24/150\n"
     ]
    },
    {
     "name": "stdout",
     "output_type": "stream",
     "text": [
      "1/1 [==============================] - 0s 26ms/step - loss: 0.6864 - acc: 0.6957 - false_negatives: 7.0000 - false_positives: 7.0000 - true_negatives: 16.0000 - true_positives: 16.0000 - val_loss: 0.7148 - val_acc: 0.5000 - val_false_negatives: 3.0000 - val_false_positives: 3.0000 - val_true_negatives: 3.0000 - val_true_positives: 3.0000\n",
      "Epoch 25/150\n",
      "1/1 [==============================] - 0s 27ms/step - loss: 0.6851 - acc: 0.6957 - false_negatives: 7.0000 - false_positives: 7.0000 - true_negatives: 16.0000 - true_positives: 16.0000 - val_loss: 0.7141 - val_acc: 0.5000 - val_false_negatives: 3.0000 - val_false_positives: 3.0000 - val_true_negatives: 3.0000 - val_true_positives: 3.0000\n",
      "Epoch 26/150\n",
      "1/1 [==============================] - 0s 27ms/step - loss: 0.6837 - acc: 0.6957 - false_negatives: 7.0000 - false_positives: 7.0000 - true_negatives: 16.0000 - true_positives: 16.0000 - val_loss: 0.7134 - val_acc: 0.5000 - val_false_negatives: 3.0000 - val_false_positives: 3.0000 - val_true_negatives: 3.0000 - val_true_positives: 3.0000\n",
      "Epoch 27/150\n",
      "1/1 [==============================] - 0s 27ms/step - loss: 0.6824 - acc: 0.6957 - false_negatives: 7.0000 - false_positives: 7.0000 - true_negatives: 16.0000 - true_positives: 16.0000 - val_loss: 0.7128 - val_acc: 0.5000 - val_false_negatives: 3.0000 - val_false_positives: 3.0000 - val_true_negatives: 3.0000 - val_true_positives: 3.0000\n",
      "Epoch 28/150\n",
      "1/1 [==============================] - 0s 25ms/step - loss: 0.6811 - acc: 0.6957 - false_negatives: 7.0000 - false_positives: 7.0000 - true_negatives: 16.0000 - true_positives: 16.0000 - val_loss: 0.7121 - val_acc: 0.5000 - val_false_negatives: 3.0000 - val_false_positives: 3.0000 - val_true_negatives: 3.0000 - val_true_positives: 3.0000\n",
      "Epoch 29/150\n",
      "1/1 [==============================] - 0s 28ms/step - loss: 0.6799 - acc: 0.6957 - false_negatives: 7.0000 - false_positives: 7.0000 - true_negatives: 16.0000 - true_positives: 16.0000 - val_loss: 0.7114 - val_acc: 0.5000 - val_false_negatives: 3.0000 - val_false_positives: 3.0000 - val_true_negatives: 3.0000 - val_true_positives: 3.0000\n",
      "Epoch 30/150\n",
      "1/1 [==============================] - 0s 28ms/step - loss: 0.6787 - acc: 0.6957 - false_negatives: 7.0000 - false_positives: 7.0000 - true_negatives: 16.0000 - true_positives: 16.0000 - val_loss: 0.7107 - val_acc: 0.5000 - val_false_negatives: 3.0000 - val_false_positives: 3.0000 - val_true_negatives: 3.0000 - val_true_positives: 3.0000\n",
      "Epoch 31/150\n",
      "1/1 [==============================] - 0s 26ms/step - loss: 0.6775 - acc: 0.6957 - false_negatives: 7.0000 - false_positives: 7.0000 - true_negatives: 16.0000 - true_positives: 16.0000 - val_loss: 0.7101 - val_acc: 0.5000 - val_false_negatives: 3.0000 - val_false_positives: 3.0000 - val_true_negatives: 3.0000 - val_true_positives: 3.0000\n",
      "Epoch 32/150\n",
      "1/1 [==============================] - 0s 26ms/step - loss: 0.6764 - acc: 0.6957 - false_negatives: 7.0000 - false_positives: 7.0000 - true_negatives: 16.0000 - true_positives: 16.0000 - val_loss: 0.7094 - val_acc: 0.5000 - val_false_negatives: 3.0000 - val_false_positives: 3.0000 - val_true_negatives: 3.0000 - val_true_positives: 3.0000\n",
      "Epoch 33/150\n",
      "1/1 [==============================] - 0s 27ms/step - loss: 0.6753 - acc: 0.6957 - false_negatives: 7.0000 - false_positives: 7.0000 - true_negatives: 16.0000 - true_positives: 16.0000 - val_loss: 0.7088 - val_acc: 0.5000 - val_false_negatives: 3.0000 - val_false_positives: 3.0000 - val_true_negatives: 3.0000 - val_true_positives: 3.0000\n",
      "Epoch 34/150\n",
      "1/1 [==============================] - 0s 25ms/step - loss: 0.6741 - acc: 0.6957 - false_negatives: 7.0000 - false_positives: 7.0000 - true_negatives: 16.0000 - true_positives: 16.0000 - val_loss: 0.7081 - val_acc: 0.5000 - val_false_negatives: 3.0000 - val_false_positives: 3.0000 - val_true_negatives: 3.0000 - val_true_positives: 3.0000\n",
      "Epoch 35/150\n",
      "1/1 [==============================] - 0s 26ms/step - loss: 0.6731 - acc: 0.6957 - false_negatives: 7.0000 - false_positives: 7.0000 - true_negatives: 16.0000 - true_positives: 16.0000 - val_loss: 0.7074 - val_acc: 0.5000 - val_false_negatives: 3.0000 - val_false_positives: 3.0000 - val_true_negatives: 3.0000 - val_true_positives: 3.0000\n",
      "Epoch 36/150\n",
      "1/1 [==============================] - 0s 28ms/step - loss: 0.6720 - acc: 0.6957 - false_negatives: 7.0000 - false_positives: 7.0000 - true_negatives: 16.0000 - true_positives: 16.0000 - val_loss: 0.7068 - val_acc: 0.5000 - val_false_negatives: 3.0000 - val_false_positives: 3.0000 - val_true_negatives: 3.0000 - val_true_positives: 3.0000\n",
      "Epoch 37/150\n",
      "1/1 [==============================] - 0s 28ms/step - loss: 0.6709 - acc: 0.6957 - false_negatives: 7.0000 - false_positives: 7.0000 - true_negatives: 16.0000 - true_positives: 16.0000 - val_loss: 0.7060 - val_acc: 0.5000 - val_false_negatives: 3.0000 - val_false_positives: 3.0000 - val_true_negatives: 3.0000 - val_true_positives: 3.0000\n",
      "Epoch 38/150\n",
      "1/1 [==============================] - 0s 27ms/step - loss: 0.6699 - acc: 0.6957 - false_negatives: 7.0000 - false_positives: 7.0000 - true_negatives: 16.0000 - true_positives: 16.0000 - val_loss: 0.7053 - val_acc: 0.5000 - val_false_negatives: 3.0000 - val_false_positives: 3.0000 - val_true_negatives: 3.0000 - val_true_positives: 3.0000\n",
      "Epoch 39/150\n",
      "1/1 [==============================] - 0s 28ms/step - loss: 0.6689 - acc: 0.6957 - false_negatives: 7.0000 - false_positives: 7.0000 - true_negatives: 16.0000 - true_positives: 16.0000 - val_loss: 0.7045 - val_acc: 0.5000 - val_false_negatives: 3.0000 - val_false_positives: 3.0000 - val_true_negatives: 3.0000 - val_true_positives: 3.0000\n",
      "Epoch 40/150\n",
      "1/1 [==============================] - 0s 25ms/step - loss: 0.6678 - acc: 0.6957 - false_negatives: 7.0000 - false_positives: 7.0000 - true_negatives: 16.0000 - true_positives: 16.0000 - val_loss: 0.7037 - val_acc: 0.5000 - val_false_negatives: 3.0000 - val_false_positives: 3.0000 - val_true_negatives: 3.0000 - val_true_positives: 3.0000\n",
      "Epoch 41/150\n",
      "1/1 [==============================] - 0s 27ms/step - loss: 0.6667 - acc: 0.6957 - false_negatives: 7.0000 - false_positives: 7.0000 - true_negatives: 16.0000 - true_positives: 16.0000 - val_loss: 0.7029 - val_acc: 0.5000 - val_false_negatives: 3.0000 - val_false_positives: 3.0000 - val_true_negatives: 3.0000 - val_true_positives: 3.0000\n",
      "Epoch 42/150\n",
      "1/1 [==============================] - 0s 26ms/step - loss: 0.6656 - acc: 0.6957 - false_negatives: 7.0000 - false_positives: 7.0000 - true_negatives: 16.0000 - true_positives: 16.0000 - val_loss: 0.7021 - val_acc: 0.5000 - val_false_negatives: 3.0000 - val_false_positives: 3.0000 - val_true_negatives: 3.0000 - val_true_positives: 3.0000\n",
      "Epoch 43/150\n",
      "1/1 [==============================] - 0s 27ms/step - loss: 0.6646 - acc: 0.6957 - false_negatives: 7.0000 - false_positives: 7.0000 - true_negatives: 16.0000 - true_positives: 16.0000 - val_loss: 0.7014 - val_acc: 0.5000 - val_false_negatives: 3.0000 - val_false_positives: 3.0000 - val_true_negatives: 3.0000 - val_true_positives: 3.0000\n",
      "Epoch 44/150\n",
      "1/1 [==============================] - 0s 28ms/step - loss: 0.6636 - acc: 0.6957 - false_negatives: 7.0000 - false_positives: 7.0000 - true_negatives: 16.0000 - true_positives: 16.0000 - val_loss: 0.7011 - val_acc: 0.5000 - val_false_negatives: 3.0000 - val_false_positives: 3.0000 - val_true_negatives: 3.0000 - val_true_positives: 3.0000\n",
      "Epoch 45/150\n",
      "1/1 [==============================] - 0s 27ms/step - loss: 0.6625 - acc: 0.7391 - false_negatives: 6.0000 - false_positives: 6.0000 - true_negatives: 17.0000 - true_positives: 17.0000 - val_loss: 0.7006 - val_acc: 0.5000 - val_false_negatives: 3.0000 - val_false_positives: 3.0000 - val_true_negatives: 3.0000 - val_true_positives: 3.0000\n",
      "Epoch 46/150\n",
      "1/1 [==============================] - 0s 25ms/step - loss: 0.6615 - acc: 0.7391 - false_negatives: 6.0000 - false_positives: 6.0000 - true_negatives: 17.0000 - true_positives: 17.0000 - val_loss: 0.7001 - val_acc: 0.5000 - val_false_negatives: 3.0000 - val_false_positives: 3.0000 - val_true_negatives: 3.0000 - val_true_positives: 3.0000\n",
      "Epoch 47/150\n"
     ]
    },
    {
     "name": "stdout",
     "output_type": "stream",
     "text": [
      "1/1 [==============================] - 0s 27ms/step - loss: 0.6606 - acc: 0.7391 - false_negatives: 6.0000 - false_positives: 6.0000 - true_negatives: 17.0000 - true_positives: 17.0000 - val_loss: 0.6996 - val_acc: 0.5000 - val_false_negatives: 3.0000 - val_false_positives: 3.0000 - val_true_negatives: 3.0000 - val_true_positives: 3.0000\n",
      "Epoch 48/150\n",
      "1/1 [==============================] - 0s 28ms/step - loss: 0.6597 - acc: 0.7391 - false_negatives: 6.0000 - false_positives: 6.0000 - true_negatives: 17.0000 - true_positives: 17.0000 - val_loss: 0.6991 - val_acc: 0.5000 - val_false_negatives: 3.0000 - val_false_positives: 3.0000 - val_true_negatives: 3.0000 - val_true_positives: 3.0000\n",
      "Epoch 49/150\n",
      "1/1 [==============================] - 0s 30ms/step - loss: 0.6589 - acc: 0.7391 - false_negatives: 6.0000 - false_positives: 6.0000 - true_negatives: 17.0000 - true_positives: 17.0000 - val_loss: 0.6987 - val_acc: 0.5000 - val_false_negatives: 3.0000 - val_false_positives: 3.0000 - val_true_negatives: 3.0000 - val_true_positives: 3.0000\n",
      "Epoch 50/150\n",
      "1/1 [==============================] - 0s 27ms/step - loss: 0.6580 - acc: 0.7391 - false_negatives: 6.0000 - false_positives: 6.0000 - true_negatives: 17.0000 - true_positives: 17.0000 - val_loss: 0.6983 - val_acc: 0.5000 - val_false_negatives: 3.0000 - val_false_positives: 3.0000 - val_true_negatives: 3.0000 - val_true_positives: 3.0000\n",
      "Epoch 51/150\n",
      "1/1 [==============================] - 0s 27ms/step - loss: 0.6572 - acc: 0.7391 - false_negatives: 6.0000 - false_positives: 6.0000 - true_negatives: 17.0000 - true_positives: 17.0000 - val_loss: 0.6979 - val_acc: 0.5000 - val_false_negatives: 3.0000 - val_false_positives: 3.0000 - val_true_negatives: 3.0000 - val_true_positives: 3.0000\n",
      "Epoch 52/150\n",
      "1/1 [==============================] - 0s 27ms/step - loss: 0.6564 - acc: 0.7391 - false_negatives: 6.0000 - false_positives: 6.0000 - true_negatives: 17.0000 - true_positives: 17.0000 - val_loss: 0.6976 - val_acc: 0.5000 - val_false_negatives: 3.0000 - val_false_positives: 3.0000 - val_true_negatives: 3.0000 - val_true_positives: 3.0000\n",
      "Epoch 53/150\n",
      "1/1 [==============================] - 0s 26ms/step - loss: 0.6556 - acc: 0.7391 - false_negatives: 6.0000 - false_positives: 6.0000 - true_negatives: 17.0000 - true_positives: 17.0000 - val_loss: 0.6972 - val_acc: 0.5000 - val_false_negatives: 3.0000 - val_false_positives: 3.0000 - val_true_negatives: 3.0000 - val_true_positives: 3.0000\n",
      "Epoch 54/150\n",
      "1/1 [==============================] - 0s 24ms/step - loss: 0.6547 - acc: 0.7391 - false_negatives: 6.0000 - false_positives: 6.0000 - true_negatives: 17.0000 - true_positives: 17.0000 - val_loss: 0.6969 - val_acc: 0.5000 - val_false_negatives: 3.0000 - val_false_positives: 3.0000 - val_true_negatives: 3.0000 - val_true_positives: 3.0000\n",
      "Epoch 55/150\n",
      "1/1 [==============================] - 0s 25ms/step - loss: 0.6538 - acc: 0.7391 - false_negatives: 6.0000 - false_positives: 6.0000 - true_negatives: 17.0000 - true_positives: 17.0000 - val_loss: 0.6965 - val_acc: 0.5000 - val_false_negatives: 3.0000 - val_false_positives: 3.0000 - val_true_negatives: 3.0000 - val_true_positives: 3.0000\n",
      "Epoch 56/150\n",
      "1/1 [==============================] - 0s 25ms/step - loss: 0.6529 - acc: 0.7391 - false_negatives: 6.0000 - false_positives: 6.0000 - true_negatives: 17.0000 - true_positives: 17.0000 - val_loss: 0.6962 - val_acc: 0.5000 - val_false_negatives: 3.0000 - val_false_positives: 3.0000 - val_true_negatives: 3.0000 - val_true_positives: 3.0000\n",
      "Epoch 57/150\n",
      "1/1 [==============================] - 0s 25ms/step - loss: 0.6520 - acc: 0.7391 - false_negatives: 6.0000 - false_positives: 6.0000 - true_negatives: 17.0000 - true_positives: 17.0000 - val_loss: 0.6959 - val_acc: 0.5000 - val_false_negatives: 3.0000 - val_false_positives: 3.0000 - val_true_negatives: 3.0000 - val_true_positives: 3.0000\n",
      "Epoch 58/150\n",
      "1/1 [==============================] - 0s 25ms/step - loss: 0.6511 - acc: 0.7391 - false_negatives: 6.0000 - false_positives: 6.0000 - true_negatives: 17.0000 - true_positives: 17.0000 - val_loss: 0.6956 - val_acc: 0.5000 - val_false_negatives: 3.0000 - val_false_positives: 3.0000 - val_true_negatives: 3.0000 - val_true_positives: 3.0000\n",
      "Epoch 59/150\n",
      "1/1 [==============================] - 0s 27ms/step - loss: 0.6502 - acc: 0.7391 - false_negatives: 6.0000 - false_positives: 6.0000 - true_negatives: 17.0000 - true_positives: 17.0000 - val_loss: 0.6952 - val_acc: 0.5000 - val_false_negatives: 3.0000 - val_false_positives: 3.0000 - val_true_negatives: 3.0000 - val_true_positives: 3.0000\n",
      "Epoch 60/150\n",
      "1/1 [==============================] - 0s 27ms/step - loss: 0.6494 - acc: 0.7391 - false_negatives: 6.0000 - false_positives: 6.0000 - true_negatives: 17.0000 - true_positives: 17.0000 - val_loss: 0.6949 - val_acc: 0.5000 - val_false_negatives: 3.0000 - val_false_positives: 3.0000 - val_true_negatives: 3.0000 - val_true_positives: 3.0000\n",
      "Epoch 61/150\n",
      "1/1 [==============================] - 0s 25ms/step - loss: 0.6486 - acc: 0.7391 - false_negatives: 6.0000 - false_positives: 6.0000 - true_negatives: 17.0000 - true_positives: 17.0000 - val_loss: 0.6946 - val_acc: 0.5000 - val_false_negatives: 3.0000 - val_false_positives: 3.0000 - val_true_negatives: 3.0000 - val_true_positives: 3.0000\n",
      "Epoch 62/150\n",
      "1/1 [==============================] - 0s 24ms/step - loss: 0.6477 - acc: 0.7391 - false_negatives: 6.0000 - false_positives: 6.0000 - true_negatives: 17.0000 - true_positives: 17.0000 - val_loss: 0.6942 - val_acc: 0.5000 - val_false_negatives: 3.0000 - val_false_positives: 3.0000 - val_true_negatives: 3.0000 - val_true_positives: 3.0000\n",
      "Epoch 63/150\n",
      "1/1 [==============================] - 0s 26ms/step - loss: 0.6469 - acc: 0.7391 - false_negatives: 6.0000 - false_positives: 6.0000 - true_negatives: 17.0000 - true_positives: 17.0000 - val_loss: 0.6938 - val_acc: 0.5000 - val_false_negatives: 3.0000 - val_false_positives: 3.0000 - val_true_negatives: 3.0000 - val_true_positives: 3.0000\n",
      "Epoch 64/150\n",
      "1/1 [==============================] - 0s 26ms/step - loss: 0.6461 - acc: 0.7391 - false_negatives: 6.0000 - false_positives: 6.0000 - true_negatives: 17.0000 - true_positives: 17.0000 - val_loss: 0.6934 - val_acc: 0.5000 - val_false_negatives: 3.0000 - val_false_positives: 3.0000 - val_true_negatives: 3.0000 - val_true_positives: 3.0000\n",
      "Epoch 65/150\n",
      "1/1 [==============================] - 0s 26ms/step - loss: 0.6453 - acc: 0.7391 - false_negatives: 6.0000 - false_positives: 6.0000 - true_negatives: 17.0000 - true_positives: 17.0000 - val_loss: 0.6930 - val_acc: 0.5000 - val_false_negatives: 3.0000 - val_false_positives: 3.0000 - val_true_negatives: 3.0000 - val_true_positives: 3.0000\n",
      "Epoch 66/150\n",
      "1/1 [==============================] - 0s 27ms/step - loss: 0.6444 - acc: 0.7391 - false_negatives: 6.0000 - false_positives: 6.0000 - true_negatives: 17.0000 - true_positives: 17.0000 - val_loss: 0.6926 - val_acc: 0.5000 - val_false_negatives: 3.0000 - val_false_positives: 3.0000 - val_true_negatives: 3.0000 - val_true_positives: 3.0000\n",
      "Epoch 67/150\n",
      "1/1 [==============================] - 0s 30ms/step - loss: 0.6435 - acc: 0.7391 - false_negatives: 6.0000 - false_positives: 6.0000 - true_negatives: 17.0000 - true_positives: 17.0000 - val_loss: 0.6921 - val_acc: 0.5000 - val_false_negatives: 3.0000 - val_false_positives: 3.0000 - val_true_negatives: 3.0000 - val_true_positives: 3.0000\n",
      "Epoch 68/150\n",
      "1/1 [==============================] - 0s 27ms/step - loss: 0.6426 - acc: 0.7391 - false_negatives: 6.0000 - false_positives: 6.0000 - true_negatives: 17.0000 - true_positives: 17.0000 - val_loss: 0.6917 - val_acc: 0.5000 - val_false_negatives: 3.0000 - val_false_positives: 3.0000 - val_true_negatives: 3.0000 - val_true_positives: 3.0000\n",
      "Epoch 69/150\n",
      "1/1 [==============================] - 0s 28ms/step - loss: 0.6418 - acc: 0.7391 - false_negatives: 6.0000 - false_positives: 6.0000 - true_negatives: 17.0000 - true_positives: 17.0000 - val_loss: 0.6912 - val_acc: 0.5000 - val_false_negatives: 3.0000 - val_false_positives: 3.0000 - val_true_negatives: 3.0000 - val_true_positives: 3.0000\n",
      "Epoch 70/150\n"
     ]
    },
    {
     "name": "stdout",
     "output_type": "stream",
     "text": [
      "1/1 [==============================] - 0s 27ms/step - loss: 0.6410 - acc: 0.7391 - false_negatives: 6.0000 - false_positives: 6.0000 - true_negatives: 17.0000 - true_positives: 17.0000 - val_loss: 0.6907 - val_acc: 0.5000 - val_false_negatives: 3.0000 - val_false_positives: 3.0000 - val_true_negatives: 3.0000 - val_true_positives: 3.0000\n",
      "Epoch 71/150\n",
      "1/1 [==============================] - 0s 26ms/step - loss: 0.6401 - acc: 0.7391 - false_negatives: 6.0000 - false_positives: 6.0000 - true_negatives: 17.0000 - true_positives: 17.0000 - val_loss: 0.6902 - val_acc: 0.5000 - val_false_negatives: 3.0000 - val_false_positives: 3.0000 - val_true_negatives: 3.0000 - val_true_positives: 3.0000\n",
      "Epoch 72/150\n",
      "1/1 [==============================] - 0s 25ms/step - loss: 0.6392 - acc: 0.7391 - false_negatives: 6.0000 - false_positives: 6.0000 - true_negatives: 17.0000 - true_positives: 17.0000 - val_loss: 0.6897 - val_acc: 0.5000 - val_false_negatives: 3.0000 - val_false_positives: 3.0000 - val_true_negatives: 3.0000 - val_true_positives: 3.0000\n",
      "Epoch 73/150\n",
      "1/1 [==============================] - 0s 28ms/step - loss: 0.6383 - acc: 0.7391 - false_negatives: 6.0000 - false_positives: 6.0000 - true_negatives: 17.0000 - true_positives: 17.0000 - val_loss: 0.6892 - val_acc: 0.5000 - val_false_negatives: 3.0000 - val_false_positives: 3.0000 - val_true_negatives: 3.0000 - val_true_positives: 3.0000\n",
      "Epoch 74/150\n",
      "1/1 [==============================] - 0s 27ms/step - loss: 0.6373 - acc: 0.7391 - false_negatives: 6.0000 - false_positives: 6.0000 - true_negatives: 17.0000 - true_positives: 17.0000 - val_loss: 0.6886 - val_acc: 0.5000 - val_false_negatives: 3.0000 - val_false_positives: 3.0000 - val_true_negatives: 3.0000 - val_true_positives: 3.0000\n",
      "Epoch 75/150\n",
      "1/1 [==============================] - 0s 26ms/step - loss: 0.6364 - acc: 0.7391 - false_negatives: 6.0000 - false_positives: 6.0000 - true_negatives: 17.0000 - true_positives: 17.0000 - val_loss: 0.6880 - val_acc: 0.5000 - val_false_negatives: 3.0000 - val_false_positives: 3.0000 - val_true_negatives: 3.0000 - val_true_positives: 3.0000\n",
      "Epoch 76/150\n",
      "1/1 [==============================] - 0s 30ms/step - loss: 0.6354 - acc: 0.7826 - false_negatives: 5.0000 - false_positives: 5.0000 - true_negatives: 18.0000 - true_positives: 18.0000 - val_loss: 0.6874 - val_acc: 0.5000 - val_false_negatives: 3.0000 - val_false_positives: 3.0000 - val_true_negatives: 3.0000 - val_true_positives: 3.0000\n",
      "Epoch 77/150\n",
      "1/1 [==============================] - 0s 27ms/step - loss: 0.6344 - acc: 0.7826 - false_negatives: 5.0000 - false_positives: 5.0000 - true_negatives: 18.0000 - true_positives: 18.0000 - val_loss: 0.6868 - val_acc: 0.5000 - val_false_negatives: 3.0000 - val_false_positives: 3.0000 - val_true_negatives: 3.0000 - val_true_positives: 3.0000\n",
      "Epoch 78/150\n",
      "1/1 [==============================] - 0s 27ms/step - loss: 0.6334 - acc: 0.7826 - false_negatives: 5.0000 - false_positives: 5.0000 - true_negatives: 18.0000 - true_positives: 18.0000 - val_loss: 0.6862 - val_acc: 0.5000 - val_false_negatives: 3.0000 - val_false_positives: 3.0000 - val_true_negatives: 3.0000 - val_true_positives: 3.0000\n",
      "Epoch 79/150\n",
      "1/1 [==============================] - 0s 26ms/step - loss: 0.6324 - acc: 0.7826 - false_negatives: 5.0000 - false_positives: 5.0000 - true_negatives: 18.0000 - true_positives: 18.0000 - val_loss: 0.6855 - val_acc: 0.5000 - val_false_negatives: 3.0000 - val_false_positives: 3.0000 - val_true_negatives: 3.0000 - val_true_positives: 3.0000\n",
      "Epoch 80/150\n",
      "1/1 [==============================] - 0s 27ms/step - loss: 0.6314 - acc: 0.7826 - false_negatives: 5.0000 - false_positives: 5.0000 - true_negatives: 18.0000 - true_positives: 18.0000 - val_loss: 0.6849 - val_acc: 0.5000 - val_false_negatives: 3.0000 - val_false_positives: 3.0000 - val_true_negatives: 3.0000 - val_true_positives: 3.0000\n",
      "Epoch 81/150\n",
      "1/1 [==============================] - 0s 28ms/step - loss: 0.6304 - acc: 0.7826 - false_negatives: 5.0000 - false_positives: 5.0000 - true_negatives: 18.0000 - true_positives: 18.0000 - val_loss: 0.6842 - val_acc: 0.5000 - val_false_negatives: 3.0000 - val_false_positives: 3.0000 - val_true_negatives: 3.0000 - val_true_positives: 3.0000\n",
      "Epoch 82/150\n",
      "1/1 [==============================] - 0s 28ms/step - loss: 0.6294 - acc: 0.7826 - false_negatives: 5.0000 - false_positives: 5.0000 - true_negatives: 18.0000 - true_positives: 18.0000 - val_loss: 0.6835 - val_acc: 0.5000 - val_false_negatives: 3.0000 - val_false_positives: 3.0000 - val_true_negatives: 3.0000 - val_true_positives: 3.0000\n",
      "Epoch 83/150\n",
      "1/1 [==============================] - 0s 27ms/step - loss: 0.6285 - acc: 0.7826 - false_negatives: 5.0000 - false_positives: 5.0000 - true_negatives: 18.0000 - true_positives: 18.0000 - val_loss: 0.6827 - val_acc: 0.5000 - val_false_negatives: 3.0000 - val_false_positives: 3.0000 - val_true_negatives: 3.0000 - val_true_positives: 3.0000\n",
      "Epoch 84/150\n",
      "1/1 [==============================] - 0s 26ms/step - loss: 0.6276 - acc: 0.7826 - false_negatives: 5.0000 - false_positives: 5.0000 - true_negatives: 18.0000 - true_positives: 18.0000 - val_loss: 0.6820 - val_acc: 0.5000 - val_false_negatives: 3.0000 - val_false_positives: 3.0000 - val_true_negatives: 3.0000 - val_true_positives: 3.0000\n",
      "Epoch 85/150\n",
      "1/1 [==============================] - 0s 26ms/step - loss: 0.6266 - acc: 0.7826 - false_negatives: 5.0000 - false_positives: 5.0000 - true_negatives: 18.0000 - true_positives: 18.0000 - val_loss: 0.6812 - val_acc: 0.5000 - val_false_negatives: 3.0000 - val_false_positives: 3.0000 - val_true_negatives: 3.0000 - val_true_positives: 3.0000\n",
      "Epoch 86/150\n",
      "1/1 [==============================] - 0s 26ms/step - loss: 0.6258 - acc: 0.7826 - false_negatives: 5.0000 - false_positives: 5.0000 - true_negatives: 18.0000 - true_positives: 18.0000 - val_loss: 0.6805 - val_acc: 0.5000 - val_false_negatives: 3.0000 - val_false_positives: 3.0000 - val_true_negatives: 3.0000 - val_true_positives: 3.0000\n",
      "Epoch 87/150\n",
      "1/1 [==============================] - 0s 26ms/step - loss: 0.6249 - acc: 0.7826 - false_negatives: 5.0000 - false_positives: 5.0000 - true_negatives: 18.0000 - true_positives: 18.0000 - val_loss: 0.6798 - val_acc: 0.5000 - val_false_negatives: 3.0000 - val_false_positives: 3.0000 - val_true_negatives: 3.0000 - val_true_positives: 3.0000\n",
      "Epoch 88/150\n",
      "1/1 [==============================] - 0s 26ms/step - loss: 0.6240 - acc: 0.7826 - false_negatives: 5.0000 - false_positives: 5.0000 - true_negatives: 18.0000 - true_positives: 18.0000 - val_loss: 0.6792 - val_acc: 0.5000 - val_false_negatives: 3.0000 - val_false_positives: 3.0000 - val_true_negatives: 3.0000 - val_true_positives: 3.0000\n",
      "Epoch 89/150\n",
      "1/1 [==============================] - 0s 27ms/step - loss: 0.6232 - acc: 0.7826 - false_negatives: 5.0000 - false_positives: 5.0000 - true_negatives: 18.0000 - true_positives: 18.0000 - val_loss: 0.6785 - val_acc: 0.5000 - val_false_negatives: 3.0000 - val_false_positives: 3.0000 - val_true_negatives: 3.0000 - val_true_positives: 3.0000\n",
      "Epoch 90/150\n",
      "1/1 [==============================] - 0s 26ms/step - loss: 0.6225 - acc: 0.7826 - false_negatives: 5.0000 - false_positives: 5.0000 - true_negatives: 18.0000 - true_positives: 18.0000 - val_loss: 0.6778 - val_acc: 0.5000 - val_false_negatives: 3.0000 - val_false_positives: 3.0000 - val_true_negatives: 3.0000 - val_true_positives: 3.0000\n",
      "Epoch 91/150\n",
      "1/1 [==============================] - 0s 26ms/step - loss: 0.6217 - acc: 0.7826 - false_negatives: 5.0000 - false_positives: 5.0000 - true_negatives: 18.0000 - true_positives: 18.0000 - val_loss: 0.6772 - val_acc: 0.5000 - val_false_negatives: 3.0000 - val_false_positives: 3.0000 - val_true_negatives: 3.0000 - val_true_positives: 3.0000\n",
      "Epoch 92/150\n",
      "1/1 [==============================] - 0s 26ms/step - loss: 0.6210 - acc: 0.7826 - false_negatives: 5.0000 - false_positives: 5.0000 - true_negatives: 18.0000 - true_positives: 18.0000 - val_loss: 0.6765 - val_acc: 0.5000 - val_false_negatives: 3.0000 - val_false_positives: 3.0000 - val_true_negatives: 3.0000 - val_true_positives: 3.0000\n",
      "Epoch 93/150\n"
     ]
    },
    {
     "name": "stdout",
     "output_type": "stream",
     "text": [
      "1/1 [==============================] - 0s 27ms/step - loss: 0.6203 - acc: 0.7826 - false_negatives: 5.0000 - false_positives: 5.0000 - true_negatives: 18.0000 - true_positives: 18.0000 - val_loss: 0.6759 - val_acc: 0.5000 - val_false_negatives: 3.0000 - val_false_positives: 3.0000 - val_true_negatives: 3.0000 - val_true_positives: 3.0000\n",
      "Epoch 94/150\n",
      "1/1 [==============================] - 0s 26ms/step - loss: 0.6196 - acc: 0.7826 - false_negatives: 5.0000 - false_positives: 5.0000 - true_negatives: 18.0000 - true_positives: 18.0000 - val_loss: 0.6753 - val_acc: 0.5000 - val_false_negatives: 3.0000 - val_false_positives: 3.0000 - val_true_negatives: 3.0000 - val_true_positives: 3.0000\n",
      "Epoch 95/150\n",
      "1/1 [==============================] - 0s 26ms/step - loss: 0.6190 - acc: 0.7826 - false_negatives: 5.0000 - false_positives: 5.0000 - true_negatives: 18.0000 - true_positives: 18.0000 - val_loss: 0.6748 - val_acc: 0.5000 - val_false_negatives: 3.0000 - val_false_positives: 3.0000 - val_true_negatives: 3.0000 - val_true_positives: 3.0000\n",
      "Epoch 96/150\n",
      "1/1 [==============================] - 0s 26ms/step - loss: 0.6183 - acc: 0.7826 - false_negatives: 5.0000 - false_positives: 5.0000 - true_negatives: 18.0000 - true_positives: 18.0000 - val_loss: 0.6745 - val_acc: 0.5000 - val_false_negatives: 3.0000 - val_false_positives: 3.0000 - val_true_negatives: 3.0000 - val_true_positives: 3.0000\n",
      "Epoch 97/150\n",
      "1/1 [==============================] - 0s 28ms/step - loss: 0.6178 - acc: 0.7826 - false_negatives: 5.0000 - false_positives: 5.0000 - true_negatives: 18.0000 - true_positives: 18.0000 - val_loss: 0.6743 - val_acc: 0.5000 - val_false_negatives: 3.0000 - val_false_positives: 3.0000 - val_true_negatives: 3.0000 - val_true_positives: 3.0000\n",
      "Epoch 98/150\n",
      "1/1 [==============================] - 0s 28ms/step - loss: 0.6172 - acc: 0.7826 - false_negatives: 5.0000 - false_positives: 5.0000 - true_negatives: 18.0000 - true_positives: 18.0000 - val_loss: 0.6744 - val_acc: 0.6667 - val_false_negatives: 2.0000 - val_false_positives: 2.0000 - val_true_negatives: 4.0000 - val_true_positives: 4.0000\n",
      "Epoch 99/150\n",
      "1/1 [==============================] - 0s 28ms/step - loss: 0.6165 - acc: 0.8261 - false_negatives: 4.0000 - false_positives: 4.0000 - true_negatives: 19.0000 - true_positives: 19.0000 - val_loss: 0.6746 - val_acc: 0.6667 - val_false_negatives: 2.0000 - val_false_positives: 2.0000 - val_true_negatives: 4.0000 - val_true_positives: 4.0000\n",
      "Epoch 100/150\n",
      "1/1 [==============================] - 0s 27ms/step - loss: 0.6158 - acc: 0.8261 - false_negatives: 4.0000 - false_positives: 4.0000 - true_negatives: 19.0000 - true_positives: 19.0000 - val_loss: 0.6749 - val_acc: 0.6667 - val_false_negatives: 2.0000 - val_false_positives: 2.0000 - val_true_negatives: 4.0000 - val_true_positives: 4.0000\n",
      "Epoch 101/150\n",
      "1/1 [==============================] - 0s 26ms/step - loss: 0.6150 - acc: 0.8261 - false_negatives: 4.0000 - false_positives: 4.0000 - true_negatives: 19.0000 - true_positives: 19.0000 - val_loss: 0.6751 - val_acc: 0.6667 - val_false_negatives: 2.0000 - val_false_positives: 2.0000 - val_true_negatives: 4.0000 - val_true_positives: 4.0000\n",
      "Epoch 102/150\n",
      "1/1 [==============================] - 0s 28ms/step - loss: 0.6143 - acc: 0.8261 - false_negatives: 4.0000 - false_positives: 4.0000 - true_negatives: 19.0000 - true_positives: 19.0000 - val_loss: 0.6754 - val_acc: 0.6667 - val_false_negatives: 2.0000 - val_false_positives: 2.0000 - val_true_negatives: 4.0000 - val_true_positives: 4.0000\n",
      "Epoch 103/150\n",
      "1/1 [==============================] - 0s 31ms/step - loss: 0.6136 - acc: 0.8261 - false_negatives: 4.0000 - false_positives: 4.0000 - true_negatives: 19.0000 - true_positives: 19.0000 - val_loss: 0.6757 - val_acc: 0.6667 - val_false_negatives: 2.0000 - val_false_positives: 2.0000 - val_true_negatives: 4.0000 - val_true_positives: 4.0000\n",
      "Epoch 104/150\n",
      "1/1 [==============================] - 0s 28ms/step - loss: 0.6129 - acc: 0.8261 - false_negatives: 4.0000 - false_positives: 4.0000 - true_negatives: 19.0000 - true_positives: 19.0000 - val_loss: 0.6760 - val_acc: 0.6667 - val_false_negatives: 2.0000 - val_false_positives: 2.0000 - val_true_negatives: 4.0000 - val_true_positives: 4.0000\n",
      "Epoch 105/150\n",
      "1/1 [==============================] - 0s 28ms/step - loss: 0.6122 - acc: 0.8261 - false_negatives: 4.0000 - false_positives: 4.0000 - true_negatives: 19.0000 - true_positives: 19.0000 - val_loss: 0.6763 - val_acc: 0.6667 - val_false_negatives: 2.0000 - val_false_positives: 2.0000 - val_true_negatives: 4.0000 - val_true_positives: 4.0000\n",
      "Epoch 106/150\n",
      "1/1 [==============================] - 0s 29ms/step - loss: 0.6115 - acc: 0.8261 - false_negatives: 4.0000 - false_positives: 4.0000 - true_negatives: 19.0000 - true_positives: 19.0000 - val_loss: 0.6765 - val_acc: 0.6667 - val_false_negatives: 2.0000 - val_false_positives: 2.0000 - val_true_negatives: 4.0000 - val_true_positives: 4.0000\n",
      "Epoch 107/150\n",
      "1/1 [==============================] - 0s 26ms/step - loss: 0.6109 - acc: 0.8261 - false_negatives: 4.0000 - false_positives: 4.0000 - true_negatives: 19.0000 - true_positives: 19.0000 - val_loss: 0.6767 - val_acc: 0.6667 - val_false_negatives: 2.0000 - val_false_positives: 2.0000 - val_true_negatives: 4.0000 - val_true_positives: 4.0000\n",
      "Epoch 108/150\n",
      "1/1 [==============================] - 0s 28ms/step - loss: 0.6103 - acc: 0.8261 - false_negatives: 4.0000 - false_positives: 4.0000 - true_negatives: 19.0000 - true_positives: 19.0000 - val_loss: 0.6768 - val_acc: 0.6667 - val_false_negatives: 2.0000 - val_false_positives: 2.0000 - val_true_negatives: 4.0000 - val_true_positives: 4.0000\n",
      "Epoch 109/150\n",
      "1/1 [==============================] - 0s 27ms/step - loss: 0.6097 - acc: 0.8261 - false_negatives: 4.0000 - false_positives: 4.0000 - true_negatives: 19.0000 - true_positives: 19.0000 - val_loss: 0.6769 - val_acc: 0.6667 - val_false_negatives: 2.0000 - val_false_positives: 2.0000 - val_true_negatives: 4.0000 - val_true_positives: 4.0000\n",
      "Epoch 110/150\n",
      "1/1 [==============================] - 0s 25ms/step - loss: 0.6091 - acc: 0.8261 - false_negatives: 4.0000 - false_positives: 4.0000 - true_negatives: 19.0000 - true_positives: 19.0000 - val_loss: 0.6769 - val_acc: 0.6667 - val_false_negatives: 2.0000 - val_false_positives: 2.0000 - val_true_negatives: 4.0000 - val_true_positives: 4.0000\n",
      "Epoch 111/150\n",
      "1/1 [==============================] - 0s 27ms/step - loss: 0.6086 - acc: 0.8261 - false_negatives: 4.0000 - false_positives: 4.0000 - true_negatives: 19.0000 - true_positives: 19.0000 - val_loss: 0.6768 - val_acc: 0.6667 - val_false_negatives: 2.0000 - val_false_positives: 2.0000 - val_true_negatives: 4.0000 - val_true_positives: 4.0000\n",
      "Epoch 112/150\n",
      "1/1 [==============================] - 0s 28ms/step - loss: 0.6080 - acc: 0.8261 - false_negatives: 4.0000 - false_positives: 4.0000 - true_negatives: 19.0000 - true_positives: 19.0000 - val_loss: 0.6768 - val_acc: 0.6667 - val_false_negatives: 2.0000 - val_false_positives: 2.0000 - val_true_negatives: 4.0000 - val_true_positives: 4.0000\n",
      "Epoch 113/150\n",
      "1/1 [==============================] - 0s 27ms/step - loss: 0.6075 - acc: 0.8261 - false_negatives: 4.0000 - false_positives: 4.0000 - true_negatives: 19.0000 - true_positives: 19.0000 - val_loss: 0.6767 - val_acc: 0.6667 - val_false_negatives: 2.0000 - val_false_positives: 2.0000 - val_true_negatives: 4.0000 - val_true_positives: 4.0000\n",
      "Epoch 114/150\n",
      "1/1 [==============================] - 0s 26ms/step - loss: 0.6069 - acc: 0.8261 - false_negatives: 4.0000 - false_positives: 4.0000 - true_negatives: 19.0000 - true_positives: 19.0000 - val_loss: 0.6766 - val_acc: 0.6667 - val_false_negatives: 2.0000 - val_false_positives: 2.0000 - val_true_negatives: 4.0000 - val_true_positives: 4.0000\n",
      "Epoch 115/150\n",
      "1/1 [==============================] - 0s 27ms/step - loss: 0.6064 - acc: 0.8261 - false_negatives: 4.0000 - false_positives: 4.0000 - true_negatives: 19.0000 - true_positives: 19.0000 - val_loss: 0.6764 - val_acc: 0.6667 - val_false_negatives: 2.0000 - val_false_positives: 2.0000 - val_true_negatives: 4.0000 - val_true_positives: 4.0000\n",
      "Epoch 116/150\n"
     ]
    },
    {
     "name": "stdout",
     "output_type": "stream",
     "text": [
      "1/1 [==============================] - 0s 26ms/step - loss: 0.6059 - acc: 0.8261 - false_negatives: 4.0000 - false_positives: 4.0000 - true_negatives: 19.0000 - true_positives: 19.0000 - val_loss: 0.6762 - val_acc: 0.6667 - val_false_negatives: 2.0000 - val_false_positives: 2.0000 - val_true_negatives: 4.0000 - val_true_positives: 4.0000\n",
      "Epoch 117/150\n",
      "1/1 [==============================] - 0s 25ms/step - loss: 0.6053 - acc: 0.8261 - false_negatives: 4.0000 - false_positives: 4.0000 - true_negatives: 19.0000 - true_positives: 19.0000 - val_loss: 0.6760 - val_acc: 0.6667 - val_false_negatives: 2.0000 - val_false_positives: 2.0000 - val_true_negatives: 4.0000 - val_true_positives: 4.0000\n",
      "Epoch 118/150\n",
      "1/1 [==============================] - 0s 27ms/step - loss: 0.6048 - acc: 0.8261 - false_negatives: 4.0000 - false_positives: 4.0000 - true_negatives: 19.0000 - true_positives: 19.0000 - val_loss: 0.6757 - val_acc: 0.6667 - val_false_negatives: 2.0000 - val_false_positives: 2.0000 - val_true_negatives: 4.0000 - val_true_positives: 4.0000\n",
      "Epoch 119/150\n",
      "1/1 [==============================] - 0s 28ms/step - loss: 0.6043 - acc: 0.8261 - false_negatives: 4.0000 - false_positives: 4.0000 - true_negatives: 19.0000 - true_positives: 19.0000 - val_loss: 0.6754 - val_acc: 0.6667 - val_false_negatives: 2.0000 - val_false_positives: 2.0000 - val_true_negatives: 4.0000 - val_true_positives: 4.0000\n",
      "Epoch 120/150\n",
      "1/1 [==============================] - 0s 27ms/step - loss: 0.6037 - acc: 0.8261 - false_negatives: 4.0000 - false_positives: 4.0000 - true_negatives: 19.0000 - true_positives: 19.0000 - val_loss: 0.6751 - val_acc: 0.6667 - val_false_negatives: 2.0000 - val_false_positives: 2.0000 - val_true_negatives: 4.0000 - val_true_positives: 4.0000\n",
      "Epoch 121/150\n",
      "1/1 [==============================] - 0s 24ms/step - loss: 0.6032 - acc: 0.8261 - false_negatives: 4.0000 - false_positives: 4.0000 - true_negatives: 19.0000 - true_positives: 19.0000 - val_loss: 0.6748 - val_acc: 0.6667 - val_false_negatives: 2.0000 - val_false_positives: 2.0000 - val_true_negatives: 4.0000 - val_true_positives: 4.0000\n",
      "Epoch 122/150\n",
      "1/1 [==============================] - 0s 26ms/step - loss: 0.6027 - acc: 0.8261 - false_negatives: 4.0000 - false_positives: 4.0000 - true_negatives: 19.0000 - true_positives: 19.0000 - val_loss: 0.6745 - val_acc: 0.6667 - val_false_negatives: 2.0000 - val_false_positives: 2.0000 - val_true_negatives: 4.0000 - val_true_positives: 4.0000\n",
      "Epoch 123/150\n",
      "1/1 [==============================] - 0s 28ms/step - loss: 0.6022 - acc: 0.8261 - false_negatives: 4.0000 - false_positives: 4.0000 - true_negatives: 19.0000 - true_positives: 19.0000 - val_loss: 0.6742 - val_acc: 0.6667 - val_false_negatives: 2.0000 - val_false_positives: 2.0000 - val_true_negatives: 4.0000 - val_true_positives: 4.0000\n",
      "Epoch 124/150\n",
      "1/1 [==============================] - 0s 27ms/step - loss: 0.6017 - acc: 0.8261 - false_negatives: 4.0000 - false_positives: 4.0000 - true_negatives: 19.0000 - true_positives: 19.0000 - val_loss: 0.6740 - val_acc: 0.6667 - val_false_negatives: 2.0000 - val_false_positives: 2.0000 - val_true_negatives: 4.0000 - val_true_positives: 4.0000\n",
      "Epoch 125/150\n",
      "1/1 [==============================] - 0s 27ms/step - loss: 0.6012 - acc: 0.8696 - false_negatives: 3.0000 - false_positives: 3.0000 - true_negatives: 20.0000 - true_positives: 20.0000 - val_loss: 0.6737 - val_acc: 0.6667 - val_false_negatives: 2.0000 - val_false_positives: 2.0000 - val_true_negatives: 4.0000 - val_true_positives: 4.0000\n",
      "Epoch 126/150\n",
      "1/1 [==============================] - 0s 28ms/step - loss: 0.6007 - acc: 0.8696 - false_negatives: 3.0000 - false_positives: 3.0000 - true_negatives: 20.0000 - true_positives: 20.0000 - val_loss: 0.6733 - val_acc: 0.6667 - val_false_negatives: 2.0000 - val_false_positives: 2.0000 - val_true_negatives: 4.0000 - val_true_positives: 4.0000\n",
      "Epoch 127/150\n",
      "1/1 [==============================] - 0s 29ms/step - loss: 0.6002 - acc: 0.8696 - false_negatives: 3.0000 - false_positives: 3.0000 - true_negatives: 20.0000 - true_positives: 20.0000 - val_loss: 0.6730 - val_acc: 0.6667 - val_false_negatives: 2.0000 - val_false_positives: 2.0000 - val_true_negatives: 4.0000 - val_true_positives: 4.0000\n",
      "Epoch 128/150\n",
      "1/1 [==============================] - 0s 25ms/step - loss: 0.5997 - acc: 0.8696 - false_negatives: 3.0000 - false_positives: 3.0000 - true_negatives: 20.0000 - true_positives: 20.0000 - val_loss: 0.6727 - val_acc: 0.6667 - val_false_negatives: 2.0000 - val_false_positives: 2.0000 - val_true_negatives: 4.0000 - val_true_positives: 4.0000\n",
      "Epoch 129/150\n",
      "1/1 [==============================] - 0s 26ms/step - loss: 0.5993 - acc: 0.8696 - false_negatives: 3.0000 - false_positives: 3.0000 - true_negatives: 20.0000 - true_positives: 20.0000 - val_loss: 0.6724 - val_acc: 0.6667 - val_false_negatives: 2.0000 - val_false_positives: 2.0000 - val_true_negatives: 4.0000 - val_true_positives: 4.0000\n",
      "Epoch 130/150\n",
      "1/1 [==============================] - 0s 25ms/step - loss: 0.5988 - acc: 0.8696 - false_negatives: 3.0000 - false_positives: 3.0000 - true_negatives: 20.0000 - true_positives: 20.0000 - val_loss: 0.6722 - val_acc: 0.6667 - val_false_negatives: 2.0000 - val_false_positives: 2.0000 - val_true_negatives: 4.0000 - val_true_positives: 4.0000\n",
      "Epoch 131/150\n",
      "1/1 [==============================] - 0s 24ms/step - loss: 0.5983 - acc: 0.8696 - false_negatives: 3.0000 - false_positives: 3.0000 - true_negatives: 20.0000 - true_positives: 20.0000 - val_loss: 0.6720 - val_acc: 0.6667 - val_false_negatives: 2.0000 - val_false_positives: 2.0000 - val_true_negatives: 4.0000 - val_true_positives: 4.0000\n",
      "Epoch 132/150\n",
      "1/1 [==============================] - 0s 25ms/step - loss: 0.5978 - acc: 0.8261 - false_negatives: 4.0000 - false_positives: 4.0000 - true_negatives: 19.0000 - true_positives: 19.0000 - val_loss: 0.6717 - val_acc: 0.6667 - val_false_negatives: 2.0000 - val_false_positives: 2.0000 - val_true_negatives: 4.0000 - val_true_positives: 4.0000\n",
      "Epoch 133/150\n",
      "1/1 [==============================] - 0s 26ms/step - loss: 0.5974 - acc: 0.8261 - false_negatives: 4.0000 - false_positives: 4.0000 - true_negatives: 19.0000 - true_positives: 19.0000 - val_loss: 0.6714 - val_acc: 0.6667 - val_false_negatives: 2.0000 - val_false_positives: 2.0000 - val_true_negatives: 4.0000 - val_true_positives: 4.0000\n",
      "Epoch 134/150\n",
      "1/1 [==============================] - 0s 28ms/step - loss: 0.5969 - acc: 0.8261 - false_negatives: 4.0000 - false_positives: 4.0000 - true_negatives: 19.0000 - true_positives: 19.0000 - val_loss: 0.6711 - val_acc: 0.6667 - val_false_negatives: 2.0000 - val_false_positives: 2.0000 - val_true_negatives: 4.0000 - val_true_positives: 4.0000\n",
      "Epoch 135/150\n",
      "1/1 [==============================] - 0s 26ms/step - loss: 0.5964 - acc: 0.8261 - false_negatives: 4.0000 - false_positives: 4.0000 - true_negatives: 19.0000 - true_positives: 19.0000 - val_loss: 0.6708 - val_acc: 0.6667 - val_false_negatives: 2.0000 - val_false_positives: 2.0000 - val_true_negatives: 4.0000 - val_true_positives: 4.0000\n",
      "Epoch 136/150\n",
      "1/1 [==============================] - 0s 28ms/step - loss: 0.5959 - acc: 0.8261 - false_negatives: 4.0000 - false_positives: 4.0000 - true_negatives: 19.0000 - true_positives: 19.0000 - val_loss: 0.6705 - val_acc: 0.6667 - val_false_negatives: 2.0000 - val_false_positives: 2.0000 - val_true_negatives: 4.0000 - val_true_positives: 4.0000\n",
      "Epoch 137/150\n",
      "1/1 [==============================] - 0s 27ms/step - loss: 0.5955 - acc: 0.8261 - false_negatives: 4.0000 - false_positives: 4.0000 - true_negatives: 19.0000 - true_positives: 19.0000 - val_loss: 0.6703 - val_acc: 0.6667 - val_false_negatives: 2.0000 - val_false_positives: 2.0000 - val_true_negatives: 4.0000 - val_true_positives: 4.0000\n",
      "Epoch 138/150\n",
      "1/1 [==============================] - 0s 27ms/step - loss: 0.5950 - acc: 0.8261 - false_negatives: 4.0000 - false_positives: 4.0000 - true_negatives: 19.0000 - true_positives: 19.0000 - val_loss: 0.6700 - val_acc: 0.6667 - val_false_negatives: 2.0000 - val_false_positives: 2.0000 - val_true_negatives: 4.0000 - val_true_positives: 4.0000\n",
      "Epoch 139/150\n"
     ]
    },
    {
     "name": "stdout",
     "output_type": "stream",
     "text": [
      "1/1 [==============================] - 0s 26ms/step - loss: 0.5945 - acc: 0.8261 - false_negatives: 4.0000 - false_positives: 4.0000 - true_negatives: 19.0000 - true_positives: 19.0000 - val_loss: 0.6698 - val_acc: 0.6667 - val_false_negatives: 2.0000 - val_false_positives: 2.0000 - val_true_negatives: 4.0000 - val_true_positives: 4.0000\n",
      "Epoch 140/150\n",
      "1/1 [==============================] - 0s 26ms/step - loss: 0.5941 - acc: 0.8261 - false_negatives: 4.0000 - false_positives: 4.0000 - true_negatives: 19.0000 - true_positives: 19.0000 - val_loss: 0.6696 - val_acc: 0.6667 - val_false_negatives: 2.0000 - val_false_positives: 2.0000 - val_true_negatives: 4.0000 - val_true_positives: 4.0000\n",
      "Epoch 141/150\n",
      "1/1 [==============================] - 0s 27ms/step - loss: 0.5936 - acc: 0.8261 - false_negatives: 4.0000 - false_positives: 4.0000 - true_negatives: 19.0000 - true_positives: 19.0000 - val_loss: 0.6694 - val_acc: 0.6667 - val_false_negatives: 2.0000 - val_false_positives: 2.0000 - val_true_negatives: 4.0000 - val_true_positives: 4.0000\n",
      "Epoch 142/150\n",
      "1/1 [==============================] - 0s 26ms/step - loss: 0.5932 - acc: 0.8261 - false_negatives: 4.0000 - false_positives: 4.0000 - true_negatives: 19.0000 - true_positives: 19.0000 - val_loss: 0.6693 - val_acc: 0.6667 - val_false_negatives: 2.0000 - val_false_positives: 2.0000 - val_true_negatives: 4.0000 - val_true_positives: 4.0000\n",
      "Epoch 143/150\n",
      "1/1 [==============================] - 0s 25ms/step - loss: 0.5927 - acc: 0.8261 - false_negatives: 4.0000 - false_positives: 4.0000 - true_negatives: 19.0000 - true_positives: 19.0000 - val_loss: 0.6690 - val_acc: 0.6667 - val_false_negatives: 2.0000 - val_false_positives: 2.0000 - val_true_negatives: 4.0000 - val_true_positives: 4.0000\n",
      "Epoch 144/150\n",
      "1/1 [==============================] - 0s 26ms/step - loss: 0.5923 - acc: 0.8261 - false_negatives: 4.0000 - false_positives: 4.0000 - true_negatives: 19.0000 - true_positives: 19.0000 - val_loss: 0.6688 - val_acc: 0.6667 - val_false_negatives: 2.0000 - val_false_positives: 2.0000 - val_true_negatives: 4.0000 - val_true_positives: 4.0000\n",
      "Epoch 145/150\n",
      "1/1 [==============================] - 0s 26ms/step - loss: 0.5918 - acc: 0.8261 - false_negatives: 4.0000 - false_positives: 4.0000 - true_negatives: 19.0000 - true_positives: 19.0000 - val_loss: 0.6686 - val_acc: 0.6667 - val_false_negatives: 2.0000 - val_false_positives: 2.0000 - val_true_negatives: 4.0000 - val_true_positives: 4.0000\n",
      "Epoch 146/150\n",
      "1/1 [==============================] - 0s 28ms/step - loss: 0.5914 - acc: 0.8261 - false_negatives: 4.0000 - false_positives: 4.0000 - true_negatives: 19.0000 - true_positives: 19.0000 - val_loss: 0.6684 - val_acc: 0.6667 - val_false_negatives: 2.0000 - val_false_positives: 2.0000 - val_true_negatives: 4.0000 - val_true_positives: 4.0000\n",
      "Epoch 147/150\n",
      "1/1 [==============================] - 0s 24ms/step - loss: 0.5910 - acc: 0.8261 - false_negatives: 4.0000 - false_positives: 4.0000 - true_negatives: 19.0000 - true_positives: 19.0000 - val_loss: 0.6682 - val_acc: 0.6667 - val_false_negatives: 2.0000 - val_false_positives: 2.0000 - val_true_negatives: 4.0000 - val_true_positives: 4.0000\n",
      "Epoch 148/150\n",
      "1/1 [==============================] - 0s 27ms/step - loss: 0.5905 - acc: 0.8261 - false_negatives: 4.0000 - false_positives: 4.0000 - true_negatives: 19.0000 - true_positives: 19.0000 - val_loss: 0.6681 - val_acc: 0.6667 - val_false_negatives: 2.0000 - val_false_positives: 2.0000 - val_true_negatives: 4.0000 - val_true_positives: 4.0000\n",
      "Epoch 149/150\n",
      "1/1 [==============================] - 0s 26ms/step - loss: 0.5901 - acc: 0.8261 - false_negatives: 4.0000 - false_positives: 4.0000 - true_negatives: 19.0000 - true_positives: 19.0000 - val_loss: 0.6680 - val_acc: 0.6667 - val_false_negatives: 2.0000 - val_false_positives: 2.0000 - val_true_negatives: 4.0000 - val_true_positives: 4.0000\n",
      "Epoch 150/150\n",
      "1/1 [==============================] - 0s 26ms/step - loss: 0.5896 - acc: 0.8261 - false_negatives: 4.0000 - false_positives: 4.0000 - true_negatives: 19.0000 - true_positives: 19.0000 - val_loss: 0.6678 - val_acc: 0.6667 - val_false_negatives: 2.0000 - val_false_positives: 2.0000 - val_true_negatives: 4.0000 - val_true_positives: 4.0000\n",
      "Time passed for training:  7.086565971374512\n"
     ]
    }
   ],
   "source": [
    "starting = time.time()\n",
    "history = model.fit(x_train, y_train,validation_data=(x_test,y_test), epochs=150)\n",
    "timePassed = time.time() - starting\n",
    "print(\"Time passed for training: \", timePassed)"
   ]
  },
  {
   "cell_type": "code",
   "execution_count": 10,
   "id": "3217d11f",
   "metadata": {},
   "outputs": [
    {
     "name": "stdout",
     "output_type": "stream",
     "text": [
      "-----------------------\n",
      "Loss:  0.5896171927452087\n",
      "Test Loss:  0.6677892208099365\n",
      "-----------------------\n",
      "Accuracy:  0.8260869383811951\n",
      "Test Accuracy:  0.6666666865348816\n",
      "-----------------------\n",
      "False Negatives:  4.0\n",
      "Test False Negatives:  2.0\n",
      "-----------------------\n",
      "False Positives:  4.0\n",
      "Test False Positives:  2.0\n",
      "-----------------------\n",
      "True Negatives:  19.0\n",
      "Test True Negatives:  4.0\n",
      "-----------------------\n",
      "True Positives:  19.0\n",
      "Test True Positives:  4.0\n",
      "-----------------------\n",
      "Precisions:\n",
      "For Training Set => Precision:  0.8260869565217391  , Recall:  0.8260869565217391  , and F1-Score:  0.8260869565217391\n",
      "For Test Set => Precision:  0.6666666666666666  , Recall:  0.6666666666666666  , and F1-Score:  0.6666666666666666\n"
     ]
    }
   ],
   "source": [
    "loss = history.history[\"loss\"]\n",
    "t_loss = history.history[\"val_loss\"]\n",
    "acc = history.history[\"acc\"]\n",
    "t_acc = history.history[\"val_acc\"]\n",
    "false_negatives = history.history[\"false_negatives\"]\n",
    "t_false_negatives = history.history[\"val_false_negatives\"]\n",
    "false_positives = history.history[\"false_positives\"]\n",
    "t_false_positives = history.history[\"val_false_positives\"]\n",
    "true_negatives = history.history[\"true_negatives\"]\n",
    "t_true_negatives = history.history[\"val_true_negatives\"]\n",
    "true_positives = history.history[\"true_positives\"]\n",
    "t_true_positives = history.history[\"val_true_positives\"]\n",
    "print(\"-----------------------\")\n",
    "print(\"Loss: \", loss[-1])\n",
    "print(\"Test Loss: \", t_loss[-1])\n",
    "print(\"-----------------------\")\n",
    "print(\"Accuracy: \", acc[-1])\n",
    "print(\"Test Accuracy: \", t_acc[-1])\n",
    "print(\"-----------------------\")\n",
    "print(\"False Negatives: \", false_negatives[-1])\n",
    "print(\"Test False Negatives: \", t_false_negatives[-1])\n",
    "print(\"-----------------------\")\n",
    "print(\"False Positives: \", false_positives[-1])\n",
    "print(\"Test False Positives: \", t_false_positives[-1])\n",
    "print(\"-----------------------\")\n",
    "print(\"True Negatives: \", true_negatives[-1])\n",
    "print(\"Test True Negatives: \", t_true_negatives[-1])\n",
    "print(\"-----------------------\")\n",
    "print(\"True Positives: \", true_positives[-1])\n",
    "print(\"Test True Positives: \", t_true_positives[-1])\n",
    "print(\"-----------------------\")\n",
    "print(\"Precisions:\")\n",
    "tp = true_positives[-1]\n",
    "fp = false_positives[-1]\n",
    "fn = false_negatives[-1]\n",
    "precision = tp / (tp + fp)\n",
    "recall = tp / (tp + fn)\n",
    "f1_score = 2 * (precision * recall) / (precision + recall)\n",
    "print(\"For Training Set => Precision: \", precision, \" , Recall: \", recall, \" , and F1-Score: \", f1_score)\n",
    "tp = t_true_positives[-1]\n",
    "fp = t_false_positives[-1]\n",
    "fn = t_false_negatives[-1]\n",
    "precision = tp / (tp + fp)\n",
    "recall = tp / (tp + fn)\n",
    "f1_score = 2 * (precision * recall) / (precision + recall)\n",
    "print(\"For Test Set => Precision: \", precision, \" , Recall: \", recall, \" , and F1-Score: \", f1_score)"
   ]
  },
  {
   "cell_type": "code",
   "execution_count": 11,
   "id": "12013964",
   "metadata": {},
   "outputs": [
    {
     "data": {
      "image/png": "[encoded data removed]",
      "text/plain": [
       "<Figure size 432x288 with 2 Axes>"
      ]
     },
     "metadata": {
      "needs_background": "light"
     },
     "output_type": "display_data"
    }
   ],
   "source": [
    "plt.subplot(311)\n",
    "plt.title(\"Loss\")\n",
    "plt.plot(loss,label=\"train\")\n",
    "plt.plot(t_loss,label=\"test\")\n",
    "plt.legend()\n",
    "\n",
    "plt.subplot(313)\n",
    "plt.title(\"Accuracy\")\n",
    "plt.plot(acc,label=\"train\")\n",
    "plt.plot(t_acc,label=\"test\")\n",
    "plt.legend()\n",
    "plt.show()"
   ]
  },
  {
   "cell_type": "code",
   "execution_count": 12,
   "id": "2f49452e",
   "metadata": {},
   "outputs": [
    {
     "name": "stderr",
     "output_type": "stream",
     "text": [
      "WARNING:absl:Found untraced functions such as lstm_cell_layer_call_fn, lstm_cell_layer_call_and_return_conditional_losses, lstm_cell_layer_call_fn, lstm_cell_layer_call_and_return_conditional_losses, lstm_cell_layer_call_and_return_conditional_losses while saving (showing 5 of 5). These functions will not be directly callable after loading.\n"
     ]
    },
    {
     "name": "stdout",
     "output_type": "stream",
     "text": [
      "INFO:tensorflow:Assets written to: MuscleNET_Models/LSTM/MuscleNET_Injury_Prediction\\assets\n"
     ]
    },
    {
     "name": "stderr",
     "output_type": "stream",
     "text": [
      "INFO:tensorflow:Assets written to: MuscleNET_Models/LSTM/MuscleNET_Injury_Prediction\\assets\n"
     ]
    }
   ],
   "source": [
    "# saving model in SavedModel format\n",
    "model.save(model_saving_path)\n",
    "# converting SavedModel into tflite model\n",
    "converter = tf.lite.TFLiteConverter.from_saved_model(model_saving_path)\n",
    "tflite_model = converter.convert()\n",
    "with open('MuscleNET_Injury_Prediction.tflite', 'wb') as f:\n",
    "      f.write(tflite_model)"
   ]
  },
  {
   "cell_type": "code",
   "execution_count": null,
   "id": "657f4723",
   "metadata": {},
   "outputs": [],
   "source": []
  }
 ],
 "metadata": {
  "kernelspec": {
   "display_name": "Python 3 (ipykernel)",
   "language": "python",
   "name": "python3"
  },
  "language_info": {
   "codemirror_mode": {
    "name": "ipython",
    "version": 3
   },
   "file_extension": ".py",
   "mimetype": "text/x-python",
   "name": "python",
   "nbconvert_exporter": "python",
   "pygments_lexer": "ipython3",
   "version": "3.8.10"
  }
 },
 "nbformat": 4,
 "nbformat_minor": 5
}
